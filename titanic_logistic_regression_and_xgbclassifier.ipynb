{
  "metadata": {
    "kernelspec": {
      "name": "python3",
      "display_name": "Python 3",
      "language": "python"
    },
    "language_info": {
      "name": "python",
      "version": "3.10.12",
      "mimetype": "text/x-python",
      "codemirror_mode": {
        "name": "ipython",
        "version": 3
      },
      "pygments_lexer": "ipython3",
      "nbconvert_exporter": "python",
      "file_extension": ".py"
    },
    "kaggle": {
      "accelerator": "none",
      "dataSources": [
        {
          "sourceId": 3136,
          "databundleVersionId": 26502,
          "sourceType": "competition"
        },
        {
          "sourceId": 11279919,
          "sourceType": "datasetVersion",
          "datasetId": 7052158
        }
      ],
      "dockerImageVersionId": 30918,
      "isInternetEnabled": true,
      "language": "python",
      "sourceType": "notebook",
      "isGpuEnabled": false
    },
    "colab": {
      "provenance": [],
      "include_colab_link": true
    }
  },
  "nbformat_minor": 0,
  "nbformat": 4,
  "cells": [
    {
      "cell_type": "markdown",
      "metadata": {
        "id": "view-in-github",
        "colab_type": "text"
      },
      "source": [
        "<a href=\"https://colab.research.google.com/github/threaded-panda/my-py/blob/main/titanic_logistic_regression_and_xgbclassifier.ipynb\" target=\"_parent\"><img src=\"https://colab.research.google.com/assets/colab-badge.svg\" alt=\"Open In Colab\"/></a>"
      ]
    },
    {
      "cell_type": "markdown",
      "source": [
        "**An exercise to demonstrate how to use Python to perform various tasks, including EDA, cleaning, visualizations, regressive analysis, confusion matrix, and XGBClassifier construction, fitting and evaluating.**"
      ],
      "metadata": {
        "id": "n8wkboCEBYCa"
      }
    },
    {
      "cell_type": "markdown",
      "source": [
        "Data Source: https://www.kaggle.com/c/titanic,"
      ],
      "metadata": {
        "id": "BMMO4Z2-BYCb"
      }
    },
    {
      "cell_type": "markdown",
      "source": [
        "# TASK #1: IMPORT LIBRARIES AND DATASETS"
      ],
      "metadata": {
        "id": "nyG-bSkcBYCb"
      }
    },
    {
      "cell_type": "code",
      "source": [
        "import pandas as pd\n",
        "import numpy as np\n",
        "import matplotlib.pyplot as plt\n",
        "import seaborn as sns"
      ],
      "metadata": {
        "trusted": true,
        "execution": {
          "iopub.status.busy": "2025-04-09T00:07:57.404113Z",
          "iopub.execute_input": "2025-04-09T00:07:57.404357Z",
          "iopub.status.idle": "2025-04-09T00:07:58.287964Z",
          "shell.execute_reply.started": "2025-04-09T00:07:57.404333Z",
          "shell.execute_reply": "2025-04-09T00:07:58.286964Z"
        },
        "id": "3E6Y8HSfBYCc"
      },
      "outputs": [],
      "execution_count": null
    },
    {
      "cell_type": "code",
      "source": [
        "# Read the data using pandas dataframe\n",
        "test_df = pd.read_csv('/kaggle/input/titanic/test.csv')\n",
        "train_df = pd.read_csv('/kaggle/input/titanic/train.csv')\n",
        "print(test_df.shape)\n",
        "print(train_df.shape)\n",
        "#test data has one less row, 'Survived', because these datasets are meant for the Titanic Competition.\n",
        "#The test data is missing that row because it is the value you are trying to predict."
      ],
      "metadata": {
        "trusted": true,
        "execution": {
          "iopub.status.busy": "2025-04-09T00:07:58.288910Z",
          "iopub.execute_input": "2025-04-09T00:07:58.289420Z",
          "iopub.status.idle": "2025-04-09T00:07:58.306435Z",
          "shell.execute_reply.started": "2025-04-09T00:07:58.289383Z",
          "shell.execute_reply": "2025-04-09T00:07:58.305270Z"
        },
        "id": "84Oj0nZHBYCc",
        "outputId": "43635ae4-fd90-498e-e650-35ad08b029ae"
      },
      "outputs": [
        {
          "name": "stdout",
          "text": "(418, 11)\n(891, 12)\n",
          "output_type": "stream"
        }
      ],
      "execution_count": null
    },
    {
      "cell_type": "code",
      "source": [
        "# Show the first few lines of data\n",
        "\n",
        "train_df.head()"
      ],
      "metadata": {
        "scrolled": true,
        "trusted": true,
        "execution": {
          "iopub.status.busy": "2025-04-09T00:07:58.307609Z",
          "iopub.execute_input": "2025-04-09T00:07:58.307997Z",
          "iopub.status.idle": "2025-04-09T00:07:58.325510Z",
          "shell.execute_reply.started": "2025-04-09T00:07:58.307962Z",
          "shell.execute_reply": "2025-04-09T00:07:58.324485Z"
        },
        "id": "5bC-zAOoBYCd",
        "outputId": "f6f565e8-dfc8-4632-8f11-be68158cc173"
      },
      "outputs": [
        {
          "execution_count": 3,
          "output_type": "execute_result",
          "data": {
            "text/plain": "   PassengerId  Survived  Pclass  \\\n0            1         0       3   \n1            2         1       1   \n2            3         1       3   \n3            4         1       1   \n4            5         0       3   \n\n                                                Name     Sex   Age  SibSp  \\\n0                            Braund, Mr. Owen Harris    male  22.0      1   \n1  Cumings, Mrs. John Bradley (Florence Briggs Th...  female  38.0      1   \n2                             Heikkinen, Miss. Laina  female  26.0      0   \n3       Futrelle, Mrs. Jacques Heath (Lily May Peel)  female  35.0      1   \n4                           Allen, Mr. William Henry    male  35.0      0   \n\n   Parch            Ticket     Fare Cabin Embarked  \n0      0         A/5 21171   7.2500   NaN        S  \n1      0          PC 17599  71.2833   C85        C  \n2      0  STON/O2. 3101282   7.9250   NaN        S  \n3      0            113803  53.1000  C123        S  \n4      0            373450   8.0500   NaN        S  ",
            "text/html": "<div>\n<style scoped>\n    .dataframe tbody tr th:only-of-type {\n        vertical-align: middle;\n    }\n\n    .dataframe tbody tr th {\n        vertical-align: top;\n    }\n\n    .dataframe thead th {\n        text-align: right;\n    }\n</style>\n<table border=\"1\" class=\"dataframe\">\n  <thead>\n    <tr style=\"text-align: right;\">\n      <th></th>\n      <th>PassengerId</th>\n      <th>Survived</th>\n      <th>Pclass</th>\n      <th>Name</th>\n      <th>Sex</th>\n      <th>Age</th>\n      <th>SibSp</th>\n      <th>Parch</th>\n      <th>Ticket</th>\n      <th>Fare</th>\n      <th>Cabin</th>\n      <th>Embarked</th>\n    </tr>\n  </thead>\n  <tbody>\n    <tr>\n      <th>0</th>\n      <td>1</td>\n      <td>0</td>\n      <td>3</td>\n      <td>Braund, Mr. Owen Harris</td>\n      <td>male</td>\n      <td>22.0</td>\n      <td>1</td>\n      <td>0</td>\n      <td>A/5 21171</td>\n      <td>7.2500</td>\n      <td>NaN</td>\n      <td>S</td>\n    </tr>\n    <tr>\n      <th>1</th>\n      <td>2</td>\n      <td>1</td>\n      <td>1</td>\n      <td>Cumings, Mrs. John Bradley (Florence Briggs Th...</td>\n      <td>female</td>\n      <td>38.0</td>\n      <td>1</td>\n      <td>0</td>\n      <td>PC 17599</td>\n      <td>71.2833</td>\n      <td>C85</td>\n      <td>C</td>\n    </tr>\n    <tr>\n      <th>2</th>\n      <td>3</td>\n      <td>1</td>\n      <td>3</td>\n      <td>Heikkinen, Miss. Laina</td>\n      <td>female</td>\n      <td>26.0</td>\n      <td>0</td>\n      <td>0</td>\n      <td>STON/O2. 3101282</td>\n      <td>7.9250</td>\n      <td>NaN</td>\n      <td>S</td>\n    </tr>\n    <tr>\n      <th>3</th>\n      <td>4</td>\n      <td>1</td>\n      <td>1</td>\n      <td>Futrelle, Mrs. Jacques Heath (Lily May Peel)</td>\n      <td>female</td>\n      <td>35.0</td>\n      <td>1</td>\n      <td>0</td>\n      <td>113803</td>\n      <td>53.1000</td>\n      <td>C123</td>\n      <td>S</td>\n    </tr>\n    <tr>\n      <th>4</th>\n      <td>5</td>\n      <td>0</td>\n      <td>3</td>\n      <td>Allen, Mr. William Henry</td>\n      <td>male</td>\n      <td>35.0</td>\n      <td>0</td>\n      <td>0</td>\n      <td>373450</td>\n      <td>8.0500</td>\n      <td>NaN</td>\n      <td>S</td>\n    </tr>\n  </tbody>\n</table>\n</div>"
          },
          "metadata": {}
        }
      ],
      "execution_count": null
    },
    {
      "cell_type": "markdown",
      "source": [
        "## **PERFORM DATA EDA and Visualization**"
      ],
      "metadata": {
        "id": "DaSzr6xJBYCd"
      }
    },
    {
      "cell_type": "code",
      "source": [
        "# Let's count the number of survivors and non-survivors in the train data.\n",
        "print(train_df['Survived'].value_counts())"
      ],
      "metadata": {
        "trusted": true,
        "execution": {
          "iopub.status.busy": "2025-04-09T00:07:58.326566Z",
          "iopub.execute_input": "2025-04-09T00:07:58.326954Z",
          "iopub.status.idle": "2025-04-09T00:07:58.333906Z",
          "shell.execute_reply.started": "2025-04-09T00:07:58.326917Z",
          "shell.execute_reply": "2025-04-09T00:07:58.332645Z"
        },
        "id": "8kukpEPkBYCd",
        "outputId": "02843626-1062-4593-c2bb-276349110474"
      },
      "outputs": [
        {
          "name": "stdout",
          "text": "Survived\n0    549\n1    342\nName: count, dtype: int64\n",
          "output_type": "stream"
        }
      ],
      "execution_count": null
    },
    {
      "cell_type": "code",
      "source": [
        "survived_df=train_df[train_df['Survived'] == 1]\n",
        "died_df=train_df[train_df['Survived'] == 0]"
      ],
      "metadata": {
        "trusted": true,
        "execution": {
          "iopub.status.busy": "2025-04-09T00:07:58.334906Z",
          "iopub.execute_input": "2025-04-09T00:07:58.335189Z",
          "iopub.status.idle": "2025-04-09T00:07:58.351926Z",
          "shell.execute_reply.started": "2025-04-09T00:07:58.335158Z",
          "shell.execute_reply": "2025-04-09T00:07:58.350767Z"
        },
        "id": "XDckZDyYBYCd"
      },
      "outputs": [],
      "execution_count": null
    },
    {
      "cell_type": "code",
      "source": [
        "# Count the number survived and those that did not survive in the train data.\n",
        "print(\"Total =\", len(train_df))\n",
        "\n",
        "print(\"Number of passengers who survived =\", len(survived_df))\n",
        "print(\"Percentage Survived =\", round(1.0 * len(survived_df) / len(train_df) * 100.0, 2), \"%\")\n",
        "\n",
        "print(\"Number of passengers who did not Survive =\", len(died_df))\n",
        "print(\"Percentage who did not survive =\", round(1. * len(died_df) / len(train_df) * 100.0, 2), \"%\")\n",
        ""
      ],
      "metadata": {
        "trusted": true,
        "execution": {
          "iopub.status.busy": "2025-04-09T00:07:58.354934Z",
          "iopub.execute_input": "2025-04-09T00:07:58.355311Z",
          "iopub.status.idle": "2025-04-09T00:07:58.374377Z",
          "shell.execute_reply.started": "2025-04-09T00:07:58.355276Z",
          "shell.execute_reply": "2025-04-09T00:07:58.373284Z"
        },
        "id": "7600GsIABYCd",
        "outputId": "d186a201-2f6e-4d5e-8f64-0c8bf201fa6f"
      },
      "outputs": [
        {
          "name": "stdout",
          "text": "Total = 891\nNumber of passengers who survived = 342\nPercentage Survived = 38.38 %\nNumber of passengers who did not Survive = 549\nPercentage who did not survive = 61.62 %\n",
          "output_type": "stream"
        }
      ],
      "execution_count": null
    },
    {
      "cell_type": "code",
      "source": [
        "# Bar Chart to indicate the number of people who survived based on their class.\n",
        "# Those who travelled first class had a higher chance of survival.\n",
        "plt.figure(figsize=(5, 3))\n",
        "sns.countplot(x='Pclass', hue='Survived', data=train_df)\n",
        "plt.show()\n"
      ],
      "metadata": {
        "trusted": true,
        "execution": {
          "iopub.status.busy": "2025-04-09T00:07:58.375491Z",
          "iopub.execute_input": "2025-04-09T00:07:58.375778Z",
          "iopub.status.idle": "2025-04-09T00:07:58.639676Z",
          "shell.execute_reply.started": "2025-04-09T00:07:58.375753Z",
          "shell.execute_reply": "2025-04-09T00:07:58.637885Z"
        },
        "id": "fevLr7awBYCe",
        "outputId": "efd2de08-bdc6-42ae-fae6-50dc15c1dcec"
      },
      "outputs": [
        {
          "output_type": "display_data",
          "data": {
            "text/plain": "<Figure size 500x300 with 1 Axes>",
            "image/png": "[encoded data removed]"
          },
          "metadata": {}
        }
      ],
      "execution_count": null
    },
    {
      "cell_type": "code",
      "source": [
        "# Bar Chart to indicate the number of people survived based on their Parch status\n",
        "#(those there with parents or children)\n",
        "plt.figure(figsize = (5, 3))\n",
        "\n",
        "sns.countplot(x = 'Parch', hue = 'Survived', data = train_df)\n",
        "\n",
        "plt.show()"
      ],
      "metadata": {
        "trusted": true,
        "execution": {
          "iopub.status.busy": "2025-04-09T00:07:58.640492Z",
          "iopub.execute_input": "2025-04-09T00:07:58.640786Z",
          "iopub.status.idle": "2025-04-09T00:07:58.900659Z",
          "shell.execute_reply.started": "2025-04-09T00:07:58.640758Z",
          "shell.execute_reply": "2025-04-09T00:07:58.899592Z"
        },
        "id": "M8C3wGBPBYCe",
        "outputId": "e798c470-fb0b-43e3-91e0-30b27cf21dbd"
      },
      "outputs": [
        {
          "output_type": "display_data",
          "data": {
            "text/plain": "<Figure size 500x300 with 1 Axes>",
            "image/png": "[encoded data removed]"
          },
          "metadata": {}
        }
      ],
      "execution_count": null
    },
    {
      "cell_type": "code",
      "source": [
        "# Bar Chart to indicate the number of people survived based on their gender.\n",
        "# Females had a higher chance of survival.\n",
        "plt.figure(figsize = [5, 3])\n",
        "plt.subplot(211)\n",
        "sns.countplot(x = 'Sex', data = train_df)\n",
        "plt.subplot(212)\n",
        "sns.countplot(x = 'Sex', hue = 'Survived', data = train_df)"
      ],
      "metadata": {
        "trusted": true,
        "execution": {
          "iopub.status.busy": "2025-04-09T00:08:17.100753Z",
          "iopub.execute_input": "2025-04-09T00:08:17.101147Z",
          "iopub.status.idle": "2025-04-09T00:08:17.341533Z",
          "shell.execute_reply.started": "2025-04-09T00:08:17.101112Z",
          "shell.execute_reply": "2025-04-09T00:08:17.340545Z"
        },
        "id": "A-NJzkC3BYCe",
        "outputId": "7a466f5a-8843-491b-9752-4b37ff7e2d8f"
      },
      "outputs": [
        {
          "execution_count": 9,
          "output_type": "execute_result",
          "data": {
            "text/plain": "<Axes: xlabel='Sex', ylabel='count'>"
          },
          "metadata": {}
        },
        {
          "output_type": "display_data",
          "data": {
            "text/plain": "<Figure size 500x300 with 2 Axes>",
            "image/png": "[encoded data removed]"
          },
          "metadata": {}
        }
      ],
      "execution_count": null
    },
    {
      "cell_type": "code",
      "source": [
        "# This shows how those without siblings on board were twice as likely to die, and roughly 25% more likely\n",
        "#to live if there was one sibling.  However, 2 or more siblings didn't make much of a difference.\n",
        "\n",
        "plt.figure(figsize = [10, 6])\n",
        "\n",
        "sns.countplot(x = 'SibSp', hue = 'Survived', data = train_df)"
      ],
      "metadata": {
        "trusted": true,
        "execution": {
          "iopub.status.busy": "2025-04-09T00:08:39.153559Z",
          "iopub.execute_input": "2025-04-09T00:08:39.153955Z",
          "iopub.status.idle": "2025-04-09T00:08:39.404737Z",
          "shell.execute_reply.started": "2025-04-09T00:08:39.153919Z",
          "shell.execute_reply": "2025-04-09T00:08:39.403572Z"
        },
        "id": "ImNgZU3rBYCe",
        "outputId": "c8472659-4a2e-4713-8c32-b57fbe182490"
      },
      "outputs": [
        {
          "execution_count": 11,
          "output_type": "execute_result",
          "data": {
            "text/plain": "<Axes: xlabel='SibSp', ylabel='count'>"
          },
          "metadata": {}
        },
        {
          "output_type": "display_data",
          "data": {
            "text/plain": "<Figure size 1000x600 with 1 Axes>",
            "image/png": "[encoded data removed]"
          },
          "metadata": {}
        }
      ],
      "execution_count": null
    },
    {
      "cell_type": "code",
      "source": [
        "#A histogram from Seaborn to compare survival based on fare.  Travellers who didn't pay a fare (staff) were\n",
        "#much more likely to die.\n",
        "# Bar Chart to indicate the number of people who survived based on their class.\n",
        "# Those who travelled first class had a higher chance of survival.\n",
        "\n",
        "#warning supression for tidy plot\n",
        "import warnings\n",
        "\n",
        "warnings.filterwarnings(\n",
        "    'ignore',\n",
        "    message=\".*use_inf_as_na option is deprecated and will be removed in a future version.*\",\n",
        "    category=FutureWarning\n",
        ")\n",
        "sns.histplot(data=died_df, x='Fare', bins=10, binwidth=20, label=\"Didn't Survive\", multiple='dodge')\n",
        "sns.histplot(data=survived_df, x='Fare', bins=10, binwidth=20, label=\"Survived\", multiple='dodge')\n",
        "plt.title(\"Survived vs Didn't Survive, Based on Fare\")\n",
        "plt.legend()\n",
        "plt.show()\n"
      ],
      "metadata": {
        "trusted": true,
        "execution": {
          "iopub.status.busy": "2025-04-09T00:08:48.941558Z",
          "iopub.execute_input": "2025-04-09T00:08:48.941913Z",
          "iopub.status.idle": "2025-04-09T00:08:49.248749Z",
          "shell.execute_reply.started": "2025-04-09T00:08:48.941884Z",
          "shell.execute_reply": "2025-04-09T00:08:49.247843Z"
        },
        "_kg_hide-input": false,
        "id": "V96C0preBYCe",
        "outputId": "b9c87549-2607-4823-c99d-bdab67f23b83"
      },
      "outputs": [
        {
          "output_type": "display_data",
          "data": {
            "text/plain": "<Figure size 640x480 with 1 Axes>",
            "image/png": "[encoded data removed]"
          },
          "metadata": {}
        }
      ],
      "execution_count": null
    },
    {
      "cell_type": "markdown",
      "source": [
        "**PERFORM DATA CLEANING AND FEATURE ENGINEERING**"
      ],
      "metadata": {
        "id": "-tRRjePHBYCf"
      }
    },
    {
      "cell_type": "code",
      "source": [
        "# Let's explore which columns are missing data\n",
        "plt.figure(figsize=(3,2))\n",
        "sns.heatmap(train_df.isnull(), yticklabels = False, cbar = False, cmap=\"Blues\")\n"
      ],
      "metadata": {
        "trusted": true,
        "execution": {
          "iopub.status.busy": "2025-04-09T00:09:23.730811Z",
          "iopub.execute_input": "2025-04-09T00:09:23.731190Z",
          "iopub.status.idle": "2025-04-09T00:09:23.890303Z",
          "shell.execute_reply.started": "2025-04-09T00:09:23.731163Z",
          "shell.execute_reply": "2025-04-09T00:09:23.889203Z"
        },
        "id": "Y35cxum-BYCf",
        "outputId": "d01ae2e8-f6af-4d5c-896d-fec2cff03867"
      },
      "outputs": [
        {
          "execution_count": 13,
          "output_type": "execute_result",
          "data": {
            "text/plain": "<Axes: >"
          },
          "metadata": {}
        },
        {
          "output_type": "display_data",
          "data": {
            "text/plain": "<Figure size 300x200 with 1 Axes>",
            "image/png": "[encoded data removed]"
          },
          "metadata": {}
        }
      ],
      "execution_count": null
    },
    {
      "cell_type": "code",
      "source": [
        "train_df"
      ],
      "metadata": {
        "trusted": true,
        "id": "sbFhm47aBYCf"
      },
      "outputs": [],
      "execution_count": null
    },
    {
      "cell_type": "code",
      "source": [
        "# Drop the cabin column and unnecessary columns and test with inplace = true and false\n",
        "train_df = train_df.drop(['Cabin','Name', 'Ticket','Embarked'], axis =1)\n"
      ],
      "metadata": {
        "trusted": true,
        "execution": {
          "iopub.status.busy": "2025-04-09T00:09:30.666708Z",
          "iopub.execute_input": "2025-04-09T00:09:30.667295Z",
          "iopub.status.idle": "2025-04-09T00:09:30.672707Z",
          "shell.execute_reply.started": "2025-04-09T00:09:30.667254Z",
          "shell.execute_reply": "2025-04-09T00:09:30.671734Z"
        },
        "id": "VmcBPF7RBYCf"
      },
      "outputs": [],
      "execution_count": null
    },
    {
      "cell_type": "code",
      "source": [
        "train_df.head()"
      ],
      "metadata": {
        "trusted": true,
        "execution": {
          "iopub.status.busy": "2025-04-09T00:09:33.924690Z",
          "iopub.execute_input": "2025-04-09T00:09:33.925082Z",
          "iopub.status.idle": "2025-04-09T00:09:33.936924Z",
          "shell.execute_reply.started": "2025-04-09T00:09:33.925047Z",
          "shell.execute_reply": "2025-04-09T00:09:33.935754Z"
        },
        "id": "DhLSLe3yBYCf",
        "outputId": "bf814156-da17-41fd-afce-60871b4f9c67"
      },
      "outputs": [
        {
          "execution_count": 15,
          "output_type": "execute_result",
          "data": {
            "text/plain": "   PassengerId  Survived  Pclass     Sex   Age  SibSp  Parch     Fare\n0            1         0       3    male  22.0      1      0   7.2500\n1            2         1       1  female  38.0      1      0  71.2833\n2            3         1       3  female  26.0      0      0   7.9250\n3            4         1       1  female  35.0      1      0  53.1000\n4            5         0       3    male  35.0      0      0   8.0500",
            "text/html": "<div>\n<style scoped>\n    .dataframe tbody tr th:only-of-type {\n        vertical-align: middle;\n    }\n\n    .dataframe tbody tr th {\n        vertical-align: top;\n    }\n\n    .dataframe thead th {\n        text-align: right;\n    }\n</style>\n<table border=\"1\" class=\"dataframe\">\n  <thead>\n    <tr style=\"text-align: right;\">\n      <th></th>\n      <th>PassengerId</th>\n      <th>Survived</th>\n      <th>Pclass</th>\n      <th>Sex</th>\n      <th>Age</th>\n      <th>SibSp</th>\n      <th>Parch</th>\n      <th>Fare</th>\n    </tr>\n  </thead>\n  <tbody>\n    <tr>\n      <th>0</th>\n      <td>1</td>\n      <td>0</td>\n      <td>3</td>\n      <td>male</td>\n      <td>22.0</td>\n      <td>1</td>\n      <td>0</td>\n      <td>7.2500</td>\n    </tr>\n    <tr>\n      <th>1</th>\n      <td>2</td>\n      <td>1</td>\n      <td>1</td>\n      <td>female</td>\n      <td>38.0</td>\n      <td>1</td>\n      <td>0</td>\n      <td>71.2833</td>\n    </tr>\n    <tr>\n      <th>2</th>\n      <td>3</td>\n      <td>1</td>\n      <td>3</td>\n      <td>female</td>\n      <td>26.0</td>\n      <td>0</td>\n      <td>0</td>\n      <td>7.9250</td>\n    </tr>\n    <tr>\n      <th>3</th>\n      <td>4</td>\n      <td>1</td>\n      <td>1</td>\n      <td>female</td>\n      <td>35.0</td>\n      <td>1</td>\n      <td>0</td>\n      <td>53.1000</td>\n    </tr>\n    <tr>\n      <th>4</th>\n      <td>5</td>\n      <td>0</td>\n      <td>3</td>\n      <td>male</td>\n      <td>35.0</td>\n      <td>0</td>\n      <td>0</td>\n      <td>8.0500</td>\n    </tr>\n  </tbody>\n</table>\n</div>"
          },
          "metadata": {}
        }
      ],
      "execution_count": null
    },
    {
      "cell_type": "code",
      "source": [
        "#Repeat for test data\n",
        "test_df.drop(['Cabin','Name', 'Ticket','Embarked'], axis =1, inplace = True)"
      ],
      "metadata": {
        "trusted": true,
        "execution": {
          "iopub.status.busy": "2025-04-09T00:10:09.763651Z",
          "iopub.execute_input": "2025-04-09T00:10:09.764032Z",
          "iopub.status.idle": "2025-04-09T00:10:09.769257Z",
          "shell.execute_reply.started": "2025-04-09T00:10:09.764001Z",
          "shell.execute_reply": "2025-04-09T00:10:09.768122Z"
        },
        "id": "MgRXSvDkBYCf"
      },
      "outputs": [],
      "execution_count": null
    },
    {
      "cell_type": "code",
      "source": [
        "# We need to deal with the missing values for age.\n",
        "# Let's get the average age for male (~29) and female (~25)\n",
        "plt.figure(figsize=(4, 2))\n",
        "sns.boxplot(x = 'Sex', y = 'Age', data = train_df)"
      ],
      "metadata": {
        "trusted": true,
        "execution": {
          "iopub.status.busy": "2025-04-09T00:10:32.884062Z",
          "iopub.execute_input": "2025-04-09T00:10:32.884415Z",
          "iopub.status.idle": "2025-04-09T00:10:33.015524Z",
          "shell.execute_reply.started": "2025-04-09T00:10:32.884384Z",
          "shell.execute_reply": "2025-04-09T00:10:33.014445Z"
        },
        "id": "lsb5UijbBYCf",
        "outputId": "b1b5e8c9-fdb1-4010-8639-8f69adb28695"
      },
      "outputs": [
        {
          "execution_count": 18,
          "output_type": "execute_result",
          "data": {
            "text/plain": "<Axes: xlabel='Sex', ylabel='Age'>"
          },
          "metadata": {}
        },
        {
          "output_type": "display_data",
          "data": {
            "text/plain": "<Figure size 400x200 with 1 Axes>",
            "image/png": "[encoded data removed]"
          },
          "metadata": {}
        }
      ],
      "execution_count": null
    },
    {
      "cell_type": "code",
      "source": [
        "age_fill = train_df.groupby(['Pclass'])['Age'].median()\n",
        "\n",
        "def fill_age(row):\n",
        "    if pd.isnull(row['Age']):\n",
        "        median_age = age_fill.get((row['Pclass']), None)\n",
        "        if median_age is None:\n",
        "            # Fallback to median of just Pclass\n",
        "            median_age = age_fill.get(('Missing', row['Pclass']), np.nan)\n",
        "        if pd.isnull(median_age):\n",
        "            # Fallback to overall median of Age if still NaN\n",
        "            median_age = train_df['Age'].median()\n",
        "        return median_age\n",
        "    else:\n",
        "        return row['Age']\n",
        "\n",
        "train_df['Age'] = train_df.apply(fill_age, axis=1)\n",
        "test_df['Age'] = test_df.apply(fill_age, axis=1)"
      ],
      "metadata": {
        "trusted": true,
        "execution": {
          "iopub.status.busy": "2025-04-09T00:10:43.988367Z",
          "iopub.execute_input": "2025-04-09T00:10:43.988874Z",
          "iopub.status.idle": "2025-04-09T00:10:44.013886Z",
          "shell.execute_reply.started": "2025-04-09T00:10:43.988784Z",
          "shell.execute_reply": "2025-04-09T00:10:44.012980Z"
        },
        "id": "-k1UCmvXBYCf"
      },
      "outputs": [],
      "execution_count": null
    },
    {
      "cell_type": "code",
      "source": [
        "print(train_df.isna().sum())\n",
        "print(test_df.isna().sum())"
      ],
      "metadata": {
        "trusted": true,
        "execution": {
          "iopub.status.busy": "2025-04-09T00:10:46.877364Z",
          "iopub.execute_input": "2025-04-09T00:10:46.877702Z",
          "iopub.status.idle": "2025-04-09T00:10:46.885028Z",
          "shell.execute_reply.started": "2025-04-09T00:10:46.877672Z",
          "shell.execute_reply": "2025-04-09T00:10:46.883815Z"
        },
        "id": "t2GJiE3_BYCg",
        "outputId": "1f156328-3d48-4227-9279-ae6a16e846af"
      },
      "outputs": [
        {
          "name": "stdout",
          "text": "PassengerId    0\nSurvived       0\nPclass         0\nSex            0\nAge            0\nSibSp          0\nParch          0\nFare           0\ndtype: int64\nPassengerId    0\nPclass         0\nSex            0\nAge            0\nSibSp          0\nParch          0\nFare           1\ndtype: int64\n",
          "output_type": "stream"
        }
      ],
      "execution_count": null
    },
    {
      "cell_type": "code",
      "source": [
        "#fill in na value\n",
        "test_df['Fare'] = test_df['Fare'].fillna(1)\n",
        "test_df.head()"
      ],
      "metadata": {
        "trusted": true,
        "execution": {
          "iopub.status.busy": "2025-04-09T00:11:09.770099Z",
          "iopub.execute_input": "2025-04-09T00:11:09.770488Z",
          "iopub.status.idle": "2025-04-09T00:11:09.783093Z",
          "shell.execute_reply.started": "2025-04-09T00:11:09.770457Z",
          "shell.execute_reply": "2025-04-09T00:11:09.782012Z"
        },
        "id": "PD4CbMliBYCg",
        "outputId": "11965d71-d116-48c3-d622-d14a399a1f7b"
      },
      "outputs": [
        {
          "execution_count": 21,
          "output_type": "execute_result",
          "data": {
            "text/plain": "   PassengerId  Pclass     Sex   Age  SibSp  Parch     Fare\n0          892       3    male  34.5      0      0   7.8292\n1          893       3  female  47.0      1      0   7.0000\n2          894       2    male  62.0      0      0   9.6875\n3          895       3    male  27.0      0      0   8.6625\n4          896       3  female  22.0      1      1  12.2875",
            "text/html": "<div>\n<style scoped>\n    .dataframe tbody tr th:only-of-type {\n        vertical-align: middle;\n    }\n\n    .dataframe tbody tr th {\n        vertical-align: top;\n    }\n\n    .dataframe thead th {\n        text-align: right;\n    }\n</style>\n<table border=\"1\" class=\"dataframe\">\n  <thead>\n    <tr style=\"text-align: right;\">\n      <th></th>\n      <th>PassengerId</th>\n      <th>Pclass</th>\n      <th>Sex</th>\n      <th>Age</th>\n      <th>SibSp</th>\n      <th>Parch</th>\n      <th>Fare</th>\n    </tr>\n  </thead>\n  <tbody>\n    <tr>\n      <th>0</th>\n      <td>892</td>\n      <td>3</td>\n      <td>male</td>\n      <td>34.5</td>\n      <td>0</td>\n      <td>0</td>\n      <td>7.8292</td>\n    </tr>\n    <tr>\n      <th>1</th>\n      <td>893</td>\n      <td>3</td>\n      <td>female</td>\n      <td>47.0</td>\n      <td>1</td>\n      <td>0</td>\n      <td>7.0000</td>\n    </tr>\n    <tr>\n      <th>2</th>\n      <td>894</td>\n      <td>2</td>\n      <td>male</td>\n      <td>62.0</td>\n      <td>0</td>\n      <td>0</td>\n      <td>9.6875</td>\n    </tr>\n    <tr>\n      <th>3</th>\n      <td>895</td>\n      <td>3</td>\n      <td>male</td>\n      <td>27.0</td>\n      <td>0</td>\n      <td>0</td>\n      <td>8.6625</td>\n    </tr>\n    <tr>\n      <th>4</th>\n      <td>896</td>\n      <td>3</td>\n      <td>female</td>\n      <td>22.0</td>\n      <td>1</td>\n      <td>1</td>\n      <td>12.2875</td>\n    </tr>\n  </tbody>\n</table>\n</div>"
          },
          "metadata": {}
        }
      ],
      "execution_count": null
    },
    {
      "cell_type": "code",
      "source": [
        "print(test_df.isna().sum())"
      ],
      "metadata": {
        "trusted": true,
        "execution": {
          "iopub.status.busy": "2025-04-09T00:11:19.296727Z",
          "iopub.execute_input": "2025-04-09T00:11:19.297105Z",
          "iopub.status.idle": "2025-04-09T00:11:19.303245Z",
          "shell.execute_reply.started": "2025-04-09T00:11:19.297072Z",
          "shell.execute_reply": "2025-04-09T00:11:19.302073Z"
        },
        "id": "kjInnCPSBYCg",
        "outputId": "37eae9ce-3495-43ae-dfc4-b303620b91cc"
      },
      "outputs": [
        {
          "name": "stdout",
          "text": "PassengerId    0\nPclass         0\nSex            0\nAge            0\nSibSp          0\nParch          0\nFare           0\ndtype: int64\n",
          "output_type": "stream"
        }
      ],
      "execution_count": null
    },
    {
      "cell_type": "code",
      "source": [
        "# Let's view the data one more time!\n",
        "plt.figure(figsize=(4,2))\n",
        "sns.heatmap(test_df.isnull(), yticklabels = False, cbar = False, cmap=\"Blues\")\n",
        "#Success!  The heatmap is empty! (for both train_df and test_df)"
      ],
      "metadata": {
        "trusted": true,
        "execution": {
          "iopub.status.busy": "2025-04-09T00:12:16.967053Z",
          "iopub.execute_input": "2025-04-09T00:12:16.967412Z",
          "iopub.status.idle": "2025-04-09T00:12:17.076343Z",
          "shell.execute_reply.started": "2025-04-09T00:12:16.967380Z",
          "shell.execute_reply": "2025-04-09T00:12:17.075374Z"
        },
        "id": "wrRgfXd3BYCg",
        "outputId": "50f19b50-054d-4022-82eb-7d4062241a7a"
      },
      "outputs": [
        {
          "execution_count": 26,
          "output_type": "execute_result",
          "data": {
            "text/plain": "<Axes: >"
          },
          "metadata": {}
        },
        {
          "output_type": "display_data",
          "data": {
            "text/plain": "<Figure size 400x200 with 1 Axes>",
            "image/png": "[encoded data removed]"
          },
          "metadata": {}
        }
      ],
      "execution_count": null
    },
    {
      "cell_type": "code",
      "source": [
        "# One column is needed to represent male or female.  First, use pd.get_dummies to assign a 1 or 0, then\n",
        "#drop #Sex_male\n",
        "import pandas as pd\n",
        "train_df = pd.get_dummies(train_df, columns=['Sex'], dtype=int)\n"
      ],
      "metadata": {
        "trusted": true,
        "execution": {
          "iopub.status.busy": "2025-04-09T00:13:39.393627Z",
          "iopub.execute_input": "2025-04-09T00:13:39.394027Z",
          "iopub.status.idle": "2025-04-09T00:13:39.402475Z",
          "shell.execute_reply.started": "2025-04-09T00:13:39.393995Z",
          "shell.execute_reply": "2025-04-09T00:13:39.401487Z"
        },
        "id": "UiZ2xLy2BYCg"
      },
      "outputs": [],
      "execution_count": null
    },
    {
      "cell_type": "code",
      "source": [
        "train_df = train_df.drop('Sex_male', axis=1)"
      ],
      "metadata": {
        "trusted": true,
        "execution": {
          "iopub.status.busy": "2025-04-09T00:13:45.373622Z",
          "iopub.execute_input": "2025-04-09T00:13:45.373993Z",
          "iopub.status.idle": "2025-04-09T00:13:45.378929Z",
          "shell.execute_reply.started": "2025-04-09T00:13:45.373963Z",
          "shell.execute_reply": "2025-04-09T00:13:45.377826Z"
        },
        "id": "9eAIlzWkBYCg"
      },
      "outputs": [],
      "execution_count": null
    },
    {
      "cell_type": "code",
      "source": [
        "train_df"
      ],
      "metadata": {
        "trusted": true,
        "execution": {
          "iopub.status.busy": "2025-04-09T00:13:48.308832Z",
          "iopub.execute_input": "2025-04-09T00:13:48.309189Z",
          "iopub.status.idle": "2025-04-09T00:13:48.322772Z",
          "shell.execute_reply.started": "2025-04-09T00:13:48.309162Z",
          "shell.execute_reply": "2025-04-09T00:13:48.321809Z"
        },
        "id": "2EeAOdRiBYCg",
        "outputId": "f3603544-2d80-4406-feed-6cfe994f8600"
      },
      "outputs": [
        {
          "execution_count": 29,
          "output_type": "execute_result",
          "data": {
            "text/plain": "     PassengerId  Survived  Pclass   Age  SibSp  Parch     Fare  Sex_female\n0              1         0       3  22.0      1      0   7.2500           0\n1              2         1       1  38.0      1      0  71.2833           1\n2              3         1       3  26.0      0      0   7.9250           1\n3              4         1       1  35.0      1      0  53.1000           1\n4              5         0       3  35.0      0      0   8.0500           0\n..           ...       ...     ...   ...    ...    ...      ...         ...\n886          887         0       2  27.0      0      0  13.0000           0\n887          888         1       1  19.0      0      0  30.0000           1\n888          889         0       3  24.0      1      2  23.4500           1\n889          890         1       1  26.0      0      0  30.0000           0\n890          891         0       3  32.0      0      0   7.7500           0\n\n[891 rows x 8 columns]",
            "text/html": "<div>\n<style scoped>\n    .dataframe tbody tr th:only-of-type {\n        vertical-align: middle;\n    }\n\n    .dataframe tbody tr th {\n        vertical-align: top;\n    }\n\n    .dataframe thead th {\n        text-align: right;\n    }\n</style>\n<table border=\"1\" class=\"dataframe\">\n  <thead>\n    <tr style=\"text-align: right;\">\n      <th></th>\n      <th>PassengerId</th>\n      <th>Survived</th>\n      <th>Pclass</th>\n      <th>Age</th>\n      <th>SibSp</th>\n      <th>Parch</th>\n      <th>Fare</th>\n      <th>Sex_female</th>\n    </tr>\n  </thead>\n  <tbody>\n    <tr>\n      <th>0</th>\n      <td>1</td>\n      <td>0</td>\n      <td>3</td>\n      <td>22.0</td>\n      <td>1</td>\n      <td>0</td>\n      <td>7.2500</td>\n      <td>0</td>\n    </tr>\n    <tr>\n      <th>1</th>\n      <td>2</td>\n      <td>1</td>\n      <td>1</td>\n      <td>38.0</td>\n      <td>1</td>\n      <td>0</td>\n      <td>71.2833</td>\n      <td>1</td>\n    </tr>\n    <tr>\n      <th>2</th>\n      <td>3</td>\n      <td>1</td>\n      <td>3</td>\n      <td>26.0</td>\n      <td>0</td>\n      <td>0</td>\n      <td>7.9250</td>\n      <td>1</td>\n    </tr>\n    <tr>\n      <th>3</th>\n      <td>4</td>\n      <td>1</td>\n      <td>1</td>\n      <td>35.0</td>\n      <td>1</td>\n      <td>0</td>\n      <td>53.1000</td>\n      <td>1</td>\n    </tr>\n    <tr>\n      <th>4</th>\n      <td>5</td>\n      <td>0</td>\n      <td>3</td>\n      <td>35.0</td>\n      <td>0</td>\n      <td>0</td>\n      <td>8.0500</td>\n      <td>0</td>\n    </tr>\n    <tr>\n      <th>...</th>\n      <td>...</td>\n      <td>...</td>\n      <td>...</td>\n      <td>...</td>\n      <td>...</td>\n      <td>...</td>\n      <td>...</td>\n      <td>...</td>\n    </tr>\n    <tr>\n      <th>886</th>\n      <td>887</td>\n      <td>0</td>\n      <td>2</td>\n      <td>27.0</td>\n      <td>0</td>\n      <td>0</td>\n      <td>13.0000</td>\n      <td>0</td>\n    </tr>\n    <tr>\n      <th>887</th>\n      <td>888</td>\n      <td>1</td>\n      <td>1</td>\n      <td>19.0</td>\n      <td>0</td>\n      <td>0</td>\n      <td>30.0000</td>\n      <td>1</td>\n    </tr>\n    <tr>\n      <th>888</th>\n      <td>889</td>\n      <td>0</td>\n      <td>3</td>\n      <td>24.0</td>\n      <td>1</td>\n      <td>2</td>\n      <td>23.4500</td>\n      <td>1</td>\n    </tr>\n    <tr>\n      <th>889</th>\n      <td>890</td>\n      <td>1</td>\n      <td>1</td>\n      <td>26.0</td>\n      <td>0</td>\n      <td>0</td>\n      <td>30.0000</td>\n      <td>0</td>\n    </tr>\n    <tr>\n      <th>890</th>\n      <td>891</td>\n      <td>0</td>\n      <td>3</td>\n      <td>32.0</td>\n      <td>0</td>\n      <td>0</td>\n      <td>7.7500</td>\n      <td>0</td>\n    </tr>\n  </tbody>\n</table>\n<p>891 rows × 8 columns</p>\n</div>"
          },
          "metadata": {}
        }
      ],
      "execution_count": null
    },
    {
      "cell_type": "code",
      "source": [
        "#repeat for test\n",
        "test_df = pd.get_dummies(test_df, columns=['Sex'], dtype=int)"
      ],
      "metadata": {
        "trusted": true,
        "execution": {
          "iopub.status.busy": "2025-04-09T00:13:58.013575Z",
          "iopub.execute_input": "2025-04-09T00:13:58.013965Z",
          "iopub.status.idle": "2025-04-09T00:13:58.021788Z",
          "shell.execute_reply.started": "2025-04-09T00:13:58.013936Z",
          "shell.execute_reply": "2025-04-09T00:13:58.020739Z"
        },
        "id": "cEAz5LABBYCg"
      },
      "outputs": [],
      "execution_count": null
    },
    {
      "cell_type": "code",
      "source": [
        "#remove extra row, sex male.\n",
        "test_df = test_df.drop('Sex_male', axis =1)\n",
        "test_df"
      ],
      "metadata": {
        "trusted": true,
        "execution": {
          "iopub.status.busy": "2025-04-09T00:14:00.676592Z",
          "iopub.execute_input": "2025-04-09T00:14:00.676944Z",
          "iopub.status.idle": "2025-04-09T00:14:00.690337Z",
          "shell.execute_reply.started": "2025-04-09T00:14:00.676916Z",
          "shell.execute_reply": "2025-04-09T00:14:00.689255Z"
        },
        "id": "JTWDoETNBYCg",
        "outputId": "5cd7748a-d41b-423c-d7bc-32b92b4b7321"
      },
      "outputs": [
        {
          "execution_count": 31,
          "output_type": "execute_result",
          "data": {
            "text/plain": "     PassengerId  Pclass   Age  SibSp  Parch      Fare  Sex_female\n0            892       3  34.5      0      0    7.8292           0\n1            893       3  47.0      1      0    7.0000           1\n2            894       2  62.0      0      0    9.6875           0\n3            895       3  27.0      0      0    8.6625           0\n4            896       3  22.0      1      1   12.2875           1\n..           ...     ...   ...    ...    ...       ...         ...\n413         1305       3  24.0      0      0    8.0500           0\n414         1306       1  39.0      0      0  108.9000           1\n415         1307       3  38.5      0      0    7.2500           0\n416         1308       3  24.0      0      0    8.0500           0\n417         1309       3  24.0      1      1   22.3583           0\n\n[418 rows x 7 columns]",
            "text/html": "<div>\n<style scoped>\n    .dataframe tbody tr th:only-of-type {\n        vertical-align: middle;\n    }\n\n    .dataframe tbody tr th {\n        vertical-align: top;\n    }\n\n    .dataframe thead th {\n        text-align: right;\n    }\n</style>\n<table border=\"1\" class=\"dataframe\">\n  <thead>\n    <tr style=\"text-align: right;\">\n      <th></th>\n      <th>PassengerId</th>\n      <th>Pclass</th>\n      <th>Age</th>\n      <th>SibSp</th>\n      <th>Parch</th>\n      <th>Fare</th>\n      <th>Sex_female</th>\n    </tr>\n  </thead>\n  <tbody>\n    <tr>\n      <th>0</th>\n      <td>892</td>\n      <td>3</td>\n      <td>34.5</td>\n      <td>0</td>\n      <td>0</td>\n      <td>7.8292</td>\n      <td>0</td>\n    </tr>\n    <tr>\n      <th>1</th>\n      <td>893</td>\n      <td>3</td>\n      <td>47.0</td>\n      <td>1</td>\n      <td>0</td>\n      <td>7.0000</td>\n      <td>1</td>\n    </tr>\n    <tr>\n      <th>2</th>\n      <td>894</td>\n      <td>2</td>\n      <td>62.0</td>\n      <td>0</td>\n      <td>0</td>\n      <td>9.6875</td>\n      <td>0</td>\n    </tr>\n    <tr>\n      <th>3</th>\n      <td>895</td>\n      <td>3</td>\n      <td>27.0</td>\n      <td>0</td>\n      <td>0</td>\n      <td>8.6625</td>\n      <td>0</td>\n    </tr>\n    <tr>\n      <th>4</th>\n      <td>896</td>\n      <td>3</td>\n      <td>22.0</td>\n      <td>1</td>\n      <td>1</td>\n      <td>12.2875</td>\n      <td>1</td>\n    </tr>\n    <tr>\n      <th>...</th>\n      <td>...</td>\n      <td>...</td>\n      <td>...</td>\n      <td>...</td>\n      <td>...</td>\n      <td>...</td>\n      <td>...</td>\n    </tr>\n    <tr>\n      <th>413</th>\n      <td>1305</td>\n      <td>3</td>\n      <td>24.0</td>\n      <td>0</td>\n      <td>0</td>\n      <td>8.0500</td>\n      <td>0</td>\n    </tr>\n    <tr>\n      <th>414</th>\n      <td>1306</td>\n      <td>1</td>\n      <td>39.0</td>\n      <td>0</td>\n      <td>0</td>\n      <td>108.9000</td>\n      <td>1</td>\n    </tr>\n    <tr>\n      <th>415</th>\n      <td>1307</td>\n      <td>3</td>\n      <td>38.5</td>\n      <td>0</td>\n      <td>0</td>\n      <td>7.2500</td>\n      <td>0</td>\n    </tr>\n    <tr>\n      <th>416</th>\n      <td>1308</td>\n      <td>3</td>\n      <td>24.0</td>\n      <td>0</td>\n      <td>0</td>\n      <td>8.0500</td>\n      <td>0</td>\n    </tr>\n    <tr>\n      <th>417</th>\n      <td>1309</td>\n      <td>3</td>\n      <td>24.0</td>\n      <td>1</td>\n      <td>1</td>\n      <td>22.3583</td>\n      <td>0</td>\n    </tr>\n  </tbody>\n</table>\n<p>418 rows × 7 columns</p>\n</div>"
          },
          "metadata": {}
        }
      ],
      "execution_count": null
    },
    {
      "cell_type": "code",
      "source": [
        "print(train_df.shape)\n",
        "print(test_df.shape)"
      ],
      "metadata": {
        "trusted": true,
        "execution": {
          "iopub.status.busy": "2025-04-09T00:14:05.803543Z",
          "iopub.execute_input": "2025-04-09T00:14:05.803954Z",
          "iopub.status.idle": "2025-04-09T00:14:05.808739Z",
          "shell.execute_reply.started": "2025-04-09T00:14:05.803917Z",
          "shell.execute_reply": "2025-04-09T00:14:05.807435Z"
        },
        "id": "MADAOgVtBYCh",
        "outputId": "a00fb1f9-2831-4696-8415-f58f53f8f103"
      },
      "outputs": [
        {
          "name": "stdout",
          "text": "(891, 8)\n(418, 7)\n",
          "output_type": "stream"
        }
      ],
      "execution_count": null
    },
    {
      "cell_type": "markdown",
      "source": [
        "# TRAIN LOGISTIC REGRESSION CLASSIFIER MODEL"
      ],
      "metadata": {
        "id": "0wT8CzdPBYCh"
      }
    },
    {
      "cell_type": "code",
      "source": [
        "#define train variables\n",
        "#Define X predictor variables\n",
        "x = train_df.copy()\n",
        "y = train_df['Survived']\n",
        "x = train_df.drop('Survived', axis=1)"
      ],
      "metadata": {
        "trusted": true,
        "execution": {
          "iopub.status.busy": "2025-04-09T00:14:15.322658Z",
          "iopub.execute_input": "2025-04-09T00:14:15.323031Z",
          "iopub.status.idle": "2025-04-09T00:14:15.328777Z",
          "shell.execute_reply.started": "2025-04-09T00:14:15.323000Z",
          "shell.execute_reply": "2025-04-09T00:14:15.327822Z"
        },
        "id": "uJnC1VT5BYCh"
      },
      "outputs": [],
      "execution_count": null
    },
    {
      "cell_type": "code",
      "source": [
        "from sklearn.model_selection import train_test_split\n",
        "from sklearn.linear_model import LogisticRegression\n",
        "\n",
        "X_train, X_val, y_train, y_val = train_test_split(x,y, test_size=0.3, random_state=42)"
      ],
      "metadata": {
        "trusted": true,
        "execution": {
          "iopub.status.busy": "2025-04-09T00:14:23.128071Z",
          "iopub.execute_input": "2025-04-09T00:14:23.128440Z",
          "iopub.status.idle": "2025-04-09T00:14:23.223281Z",
          "shell.execute_reply.started": "2025-04-09T00:14:23.128410Z",
          "shell.execute_reply": "2025-04-09T00:14:23.222397Z"
        },
        "id": "7SRQaUwlBYCh"
      },
      "outputs": [],
      "execution_count": null
    },
    {
      "cell_type": "code",
      "source": [
        "print(X_train.shape)\n",
        "print(X_val.shape)\n",
        "print(y_train.shape)\n",
        "print(y_val.shape)\n"
      ],
      "metadata": {
        "trusted": true,
        "execution": {
          "iopub.status.busy": "2025-04-09T00:14:28.865256Z",
          "iopub.execute_input": "2025-04-09T00:14:28.865584Z",
          "iopub.status.idle": "2025-04-09T00:14:28.871794Z",
          "shell.execute_reply.started": "2025-04-09T00:14:28.865559Z",
          "shell.execute_reply": "2025-04-09T00:14:28.870795Z"
        },
        "id": "YLhEDChDBYCh",
        "outputId": "2880cbdc-6cab-486f-a0b1-7e0546d44b08"
      },
      "outputs": [
        {
          "name": "stdout",
          "text": "(623, 7)\n(268, 7)\n(623,)\n(268,)\n",
          "output_type": "stream"
        }
      ],
      "execution_count": null
    },
    {
      "cell_type": "markdown",
      "source": [
        "### MODEL BUILDING"
      ],
      "metadata": {
        "id": "-DgNB8UqBYCh"
      }
    },
    {
      "cell_type": "code",
      "source": [
        "#Build a logistic regression model and fit it to the data\n",
        "clf = LogisticRegression(max_iter=1000).fit(X_train, y_train)"
      ],
      "metadata": {
        "trusted": true,
        "execution": {
          "iopub.status.busy": "2025-04-09T00:15:14.094813Z",
          "iopub.execute_input": "2025-04-09T00:15:14.095218Z",
          "iopub.status.idle": "2025-04-09T00:15:14.141347Z",
          "shell.execute_reply.started": "2025-04-09T00:15:14.095189Z",
          "shell.execute_reply": "2025-04-09T00:15:14.140464Z"
        },
        "id": "lZWprJ2YBYCh"
      },
      "outputs": [],
      "execution_count": null
    },
    {
      "cell_type": "code",
      "source": [
        "#Obtain parameter estimates\n",
        "clf.coef_"
      ],
      "metadata": {
        "trusted": true,
        "execution": {
          "iopub.status.busy": "2025-04-09T00:15:16.889715Z",
          "iopub.execute_input": "2025-04-09T00:15:16.890074Z",
          "iopub.status.idle": "2025-04-09T00:15:16.896141Z",
          "shell.execute_reply.started": "2025-04-09T00:15:16.890046Z",
          "shell.execute_reply": "2025-04-09T00:15:16.894964Z"
        },
        "id": "Lh3tDPVmBYCo",
        "outputId": "601f0fa8-d33f-4bd1-b3ed-5526195a4fc8"
      },
      "outputs": [
        {
          "execution_count": 37,
          "output_type": "execute_result",
          "data": {
            "text/plain": "array([[ 2.73044404e-04, -9.66519284e-01, -3.75506267e-02,\n        -2.93583205e-01, -1.15235447e-01,  3.55902957e-03,\n         2.51309604e+00]])"
          },
          "metadata": {}
        }
      ],
      "execution_count": null
    },
    {
      "cell_type": "code",
      "source": [
        "clf.intercept_"
      ],
      "metadata": {
        "trusted": true,
        "execution": {
          "iopub.status.busy": "2025-04-09T00:15:23.498369Z",
          "iopub.execute_input": "2025-04-09T00:15:23.498711Z",
          "iopub.status.idle": "2025-04-09T00:15:23.504519Z",
          "shell.execute_reply.started": "2025-04-09T00:15:23.498683Z",
          "shell.execute_reply": "2025-04-09T00:15:23.503427Z"
        },
        "id": "val4qfKeBYCo",
        "outputId": "3647fa86-a943-4bc3-dab6-7384dc2c3f91"
      },
      "outputs": [
        {
          "execution_count": 38,
          "output_type": "execute_result",
          "data": {
            "text/plain": "array([1.76158508])"
          },
          "metadata": {}
        }
      ],
      "execution_count": null
    },
    {
      "cell_type": "code",
      "source": [
        "# save predictions\n",
        "y_preds = clf.predict(X_val)"
      ],
      "metadata": {
        "trusted": true,
        "execution": {
          "iopub.status.busy": "2025-04-09T00:15:26.308885Z",
          "iopub.execute_input": "2025-04-09T00:15:26.309215Z",
          "iopub.status.idle": "2025-04-09T00:15:26.315157Z",
          "shell.execute_reply.started": "2025-04-09T00:15:26.309188Z",
          "shell.execute_reply": "2025-04-09T00:15:26.314333Z"
        },
        "id": "ybNLjv3NBYCp"
      },
      "outputs": [],
      "execution_count": null
    },
    {
      "cell_type": "code",
      "source": [
        "clf.predict(X_val)"
      ],
      "metadata": {
        "trusted": true,
        "id": "lh1Nmgt_BYCp"
      },
      "outputs": [],
      "execution_count": null
    },
    {
      "cell_type": "code",
      "source": [
        "#print out the predicted probabilities on each data point\n",
        "clf.predict_proba(X_val)[::,-1]"
      ],
      "metadata": {
        "trusted": true,
        "execution": {
          "iopub.status.busy": "2025-04-09T00:15:53.053918Z",
          "iopub.execute_input": "2025-04-09T00:15:53.054269Z",
          "iopub.status.idle": "2025-04-09T00:15:53.063970Z",
          "shell.execute_reply.started": "2025-04-09T00:15:53.054239Z",
          "shell.execute_reply": "2025-04-09T00:15:53.062910Z"
        },
        "id": "q178I3kCBYCp",
        "outputId": "d86780cc-7878-48bb-bd29-cb6a07c17e36"
      },
      "outputs": [
        {
          "execution_count": 40,
          "output_type": "execute_result",
          "data": {
            "text/plain": "array([0.09976084, 0.23540955, 0.16367293, 0.91014579, 0.64720196,\n       0.93654882, 0.64191306, 0.1024136 , 0.70244374, 0.92380317,\n       0.34046426, 0.07101258, 0.4258654 , 0.10230409, 0.20055835,\n       0.950992  , 0.3276643 , 0.66381539, 0.28969565, 0.31985545,\n       0.12669101, 0.43417445, 0.61033701, 0.15846899, 0.1370027 ,\n       0.09099829, 0.35438127, 0.24876243, 0.09257229, 0.58598835,\n       0.17028619, 0.64916349, 0.43333361, 0.63765888, 0.15068229,\n       0.09757895, 0.46917585, 0.63548633, 0.92568006, 0.14075497,\n       0.22225799, 0.08588614, 0.14409009, 0.1423842 , 0.43061747,\n       0.09691557, 0.14138523, 0.13319884, 0.12384803, 0.26308739,\n       0.66286906, 0.81811813, 0.03929172, 0.62346767, 0.03004785,\n       0.94507317, 0.2114316 , 0.90705897, 0.76133192, 0.66862898,\n       0.14341767, 0.87321631, 0.76954903, 0.38796008, 0.12370365,\n       0.61056552, 0.33659712, 0.1107192 , 0.11775221, 0.8178937 ,\n       0.75666937, 0.94446491, 0.54203304, 0.87643516, 0.14855687,\n       0.0715865 , 0.61469944, 0.92924788, 0.74244892, 0.43699663,\n       0.05656168, 0.78723494, 0.87689847, 0.14197914, 0.24035408,\n       0.17365269, 0.90991814, 0.9219326 , 0.3995975 , 0.12511592,\n       0.16966197, 0.47294212, 0.22977786, 0.12949118, 0.1202503 ,\n       0.11061855, 0.284714  , 0.06258862, 0.75503448, 0.11549325,\n       0.20317664, 0.09401935, 0.93732099, 0.08221943, 0.11587509,\n       0.09781942, 0.6797915 , 0.33040111, 0.1041149 , 0.36835275,\n       0.88008283, 0.13946945, 0.89792857, 0.41991386, 0.58399103,\n       0.16596702, 0.15171562, 0.19822083, 0.78556362, 0.32234389,\n       0.17481528, 0.91966935, 0.73139373, 0.42352754, 0.1374868 ,\n       0.4354812 , 0.85545966, 0.55328492, 0.59625267, 0.14644891,\n       0.6457127 , 0.08504259, 0.24437999, 0.80910383, 0.27447034,\n       0.68925175, 0.91661738, 0.10565399, 0.07891123, 0.61836913,\n       0.15210012, 0.67300756, 0.25294827, 0.16806357, 0.42068688,\n       0.70798765, 0.232674  , 0.06893651, 0.89617368, 0.07301092,\n       0.13605513, 0.13332293, 0.16825979, 0.57354033, 0.12033727,\n       0.13622628, 0.15945657, 0.62814963, 0.71717298, 0.49987818,\n       0.12857814, 0.41069123, 0.20281903, 0.88291393, 0.11842333,\n       0.17867401, 0.29135683, 0.87378416, 0.14264953, 0.0888494 ,\n       0.51709792, 0.83141098, 0.42399653, 0.7141276 , 0.16349172,\n       0.14159107, 0.30943698, 0.8536925 , 0.70651987, 0.32708375,\n       0.3125046 , 0.09914048, 0.10088564, 0.51963554, 0.6664209 ,\n       0.3421798 , 0.20480914, 0.11889929, 0.38872581, 0.74024456,\n       0.06599339, 0.21392841, 0.13614641, 0.10240894, 0.62536941,\n       0.89600396, 0.947189  , 0.23447752, 0.94227481, 0.4543362 ,\n       0.03499   , 0.60480178, 0.88974054, 0.30485366, 0.16044464,\n       0.61510369, 0.11938827, 0.36656838, 0.13560304, 0.0544248 ,\n       0.60028998, 0.10538677, 0.90100915, 0.13197174, 0.42079958,\n       0.10603777, 0.7789345 , 0.27404289, 0.83489555, 0.13044069,\n       0.12097431, 0.82365418, 0.11560527, 0.40032366, 0.14063776,\n       0.79072111, 0.14105784, 0.7025327 , 0.7901673 , 0.60535571,\n       0.17419801, 0.94472816, 0.12561043, 0.64568319, 0.12293303,\n       0.67441467, 0.81628414, 0.71491229, 0.93369185, 0.10941931,\n       0.14570379, 0.66411713, 0.13346403, 0.68255181, 0.10155101,\n       0.11320879, 0.13197913, 0.14583353, 0.1323745 , 0.28370718,\n       0.57806789, 0.16255981, 0.13073572, 0.1276719 , 0.26629833,\n       0.12929409, 0.14496957, 0.83006734, 0.19571779, 0.74804524,\n       0.96139514, 0.29975394, 0.72723346, 0.1304975 , 0.3962303 ,\n       0.1936522 , 0.16676806, 0.48895745])"
          },
          "metadata": {}
        }
      ],
      "execution_count": null
    },
    {
      "cell_type": "markdown",
      "source": [
        "### ASSESS TRAINED MODEL PERFORMANCE"
      ],
      "metadata": {
        "id": "U_R0AIRhBYCp"
      }
    },
    {
      "cell_type": "code",
      "source": [
        "#Import:\n",
        "from sklearn.metrics import recall_score, precision_score, f1_score, accuracy_score\n",
        "from sklearn.metrics import confusion_matrix, ConfusionMatrixDisplay"
      ],
      "metadata": {
        "trusted": true,
        "execution": {
          "iopub.status.busy": "2025-04-09T00:16:26.340636Z",
          "iopub.execute_input": "2025-04-09T00:16:26.341038Z",
          "iopub.status.idle": "2025-04-09T00:16:26.345240Z",
          "shell.execute_reply.started": "2025-04-09T00:16:26.341005Z",
          "shell.execute_reply": "2025-04-09T00:16:26.344189Z"
        },
        "id": "PT-MEBp6BYCp"
      },
      "outputs": [],
      "execution_count": null
    },
    {
      "cell_type": "code",
      "source": [
        "#trained model performance on its val(validation) data.\n",
        "print('Accuracy', '%.3f' % accuracy_score(y_val, y_preds))\n",
        "print('Precision:', '%.3f' % precision_score(y_val, y_preds))\n",
        "print('Recall:', '%.3f' % recall_score(y_val, y_preds))\n",
        "print('F1 Score:', '%.3f' % f1_score(y_val, y_preds))"
      ],
      "metadata": {
        "trusted": true,
        "execution": {
          "iopub.status.busy": "2025-04-09T00:16:59.915452Z",
          "iopub.execute_input": "2025-04-09T00:16:59.915816Z",
          "iopub.status.idle": "2025-04-09T00:16:59.933030Z",
          "shell.execute_reply.started": "2025-04-09T00:16:59.915784Z",
          "shell.execute_reply": "2025-04-09T00:16:59.931798Z"
        },
        "id": "VpuS0K__BYCp",
        "outputId": "b39b48e8-a3b4-4ab8-e4a8-56cbcbe53e39"
      },
      "outputs": [
        {
          "name": "stdout",
          "text": "Accuracy 0.817\nPrecision: 0.816\nRecall: 0.721\nF1 Score: 0.766\n",
          "output_type": "stream"
        }
      ],
      "execution_count": null
    },
    {
      "cell_type": "markdown",
      "source": [
        "In a Jupyter environment, please rerun this cell to show the HTML representation or trust the notebook.\n",
        "On GitHub, the HTML representation is unable to render, please try loading this page with nbviewer.org."
      ],
      "metadata": {
        "id": "XqJrRjYMBYCp"
      }
    },
    {
      "cell_type": "code",
      "source": [
        "#Create a confusion matrix for the training data.\n",
        "import sklearn.metrics as metrics\n",
        "cm = metrics.confusion_matrix(y_val, y_preds, labels=clf.classes_)\n",
        "disp = metrics.ConfusionMatrixDisplay(confusion_matrix=cm, display_labels=clf.classes_,\n",
        "                                 )\n",
        "disp.plot()\n"
      ],
      "metadata": {
        "trusted": true,
        "execution": {
          "iopub.status.busy": "2025-04-09T00:17:41.342695Z",
          "iopub.execute_input": "2025-04-09T00:17:41.343071Z",
          "iopub.status.idle": "2025-04-09T00:17:41.555959Z",
          "shell.execute_reply.started": "2025-04-09T00:17:41.343045Z",
          "shell.execute_reply": "2025-04-09T00:17:41.554923Z"
        },
        "id": "fi3rzuluBYCp",
        "outputId": "65a349cf-f67b-41e6-d830-3b754af5a21c"
      },
      "outputs": [
        {
          "execution_count": 43,
          "output_type": "execute_result",
          "data": {
            "text/plain": "<sklearn.metrics._plot.confusion_matrix.ConfusionMatrixDisplay at 0x7b446a619d50>"
          },
          "metadata": {}
        },
        {
          "output_type": "display_data",
          "data": {
            "text/plain": "<Figure size 640x480 with 2 Axes>",
            "image/png": "[encoded data removed]"
          },
          "metadata": {}
        }
      ],
      "execution_count": null
    },
    {
      "cell_type": "code",
      "source": [
        "#X, test_df = X.align(test_df, join='inner', axis=0, fill_value=None)"
      ],
      "metadata": {
        "trusted": true,
        "id": "0xW4UPkTBYCp"
      },
      "outputs": [],
      "execution_count": null
    },
    {
      "cell_type": "code",
      "source": [
        "import xgboost as xgb\n",
        "from xgboost import XGBClassifier\n",
        "xgb = XGBClassifier(enable_categorical=True, tree_method='hist', use_label_encoder=False, random_state=0)"
      ],
      "metadata": {
        "trusted": true,
        "execution": {
          "iopub.status.busy": "2025-04-09T00:18:39.072694Z",
          "iopub.execute_input": "2025-04-09T00:18:39.073419Z",
          "iopub.status.idle": "2025-04-09T00:18:39.102801Z",
          "shell.execute_reply.started": "2025-04-09T00:18:39.073376Z",
          "shell.execute_reply": "2025-04-09T00:18:39.101716Z"
        },
        "id": "JWyV3wfqBYCq"
      },
      "outputs": [],
      "execution_count": null
    },
    {
      "cell_type": "code",
      "source": [
        "#set param for XGboost\n",
        "# Set parameters for XGBoost\n",
        "cv_params = {'max_depth': [3],\n",
        "    'learning_rate': [0.1],\n",
        "    'n_estimators': [100],\n",
        "}"
      ],
      "metadata": {
        "trusted": true,
        "execution": {
          "iopub.status.busy": "2025-04-09T00:18:44.850384Z",
          "iopub.execute_input": "2025-04-09T00:18:44.850715Z",
          "iopub.status.idle": "2025-04-09T00:18:44.855154Z",
          "shell.execute_reply.started": "2025-04-09T00:18:44.850689Z",
          "shell.execute_reply": "2025-04-09T00:18:44.853826Z"
        },
        "id": "JegJ1_sGBYCq"
      },
      "outputs": [],
      "execution_count": null
    },
    {
      "cell_type": "code",
      "source": [
        "#define criteria as scoring\n",
        "scoring = {'accuracy', 'precision', 'recall', 'f1'}"
      ],
      "metadata": {
        "trusted": true,
        "execution": {
          "iopub.status.busy": "2025-04-09T00:18:47.780209Z",
          "iopub.execute_input": "2025-04-09T00:18:47.780541Z",
          "iopub.status.idle": "2025-04-09T00:18:47.784785Z",
          "shell.execute_reply.started": "2025-04-09T00:18:47.780514Z",
          "shell.execute_reply": "2025-04-09T00:18:47.783557Z"
        },
        "id": "2HFovfp5BYCq"
      },
      "outputs": [],
      "execution_count": null
    },
    {
      "cell_type": "code",
      "source": [
        "#construct GridSearch\n",
        "from sklearn.model_selection import GridSearchCV, train_test_split\n",
        "xgb_cv = GridSearchCV(xgb, cv_params, scoring=scoring, cv=5, refit='f1')"
      ],
      "metadata": {
        "trusted": true,
        "execution": {
          "iopub.status.busy": "2025-04-09T00:18:58.759354Z",
          "iopub.execute_input": "2025-04-09T00:18:58.759745Z",
          "iopub.status.idle": "2025-04-09T00:18:58.764430Z",
          "shell.execute_reply.started": "2025-04-09T00:18:58.759716Z",
          "shell.execute_reply": "2025-04-09T00:18:58.763248Z"
        },
        "id": "AiU_wIgPBYCq"
      },
      "outputs": [],
      "execution_count": null
    },
    {
      "cell_type": "code",
      "source": [
        "#fit GridSearch model to training data\n",
        "xgb_cv.fit(X_train, y_train)"
      ],
      "metadata": {
        "trusted": true,
        "execution": {
          "iopub.status.busy": "2025-04-09T00:19:03.810406Z",
          "iopub.execute_input": "2025-04-09T00:19:03.810778Z",
          "iopub.status.idle": "2025-04-09T00:19:04.120073Z",
          "shell.execute_reply.started": "2025-04-09T00:19:03.810751Z",
          "shell.execute_reply": "2025-04-09T00:19:04.118813Z"
        },
        "id": "L8Ok5Rl_BYCq",
        "outputId": "1eb4968f-4e89-472e-d899-7ad6c8b4998c"
      },
      "outputs": [
        {
          "execution_count": 48,
          "output_type": "execute_result",
          "data": {
            "text/plain": "GridSearchCV(cv=5,\n             estimator=XGBClassifier(base_score=None, booster=None,\n                                     callbacks=None, colsample_bylevel=None,\n                                     colsample_bynode=None,\n                                     colsample_bytree=None, device=None,\n                                     early_stopping_rounds=None,\n                                     enable_categorical=True, eval_metric=None,\n                                     feature_types=None, gamma=None,\n                                     grow_policy=None, importance_type=None,\n                                     interaction_constraints=None,\n                                     learning_rate=None, m...\n                                     max_cat_to_onehot=None,\n                                     max_delta_step=None, max_depth=None,\n                                     max_leaves=None, min_child_weight=None,\n                                     missing=nan, monotone_constraints=None,\n                                     multi_strategy=None, n_estimators=None,\n                                     n_jobs=None, num_parallel_tree=None,\n                                     random_state=0, ...),\n             param_grid={'learning_rate': [0.1], 'max_depth': [3],\n                         'n_estimators': [100]},\n             refit='f1', scoring={'f1', 'precision', 'recall', 'accuracy'})",
            "text/html": "<style>#sk-container-id-1 {color: black;background-color: white;}#sk-container-id-1 pre{padding: 0;}#sk-container-id-1 div.sk-toggleable {background-color: white;}#sk-container-id-1 label.sk-toggleable__label {cursor: pointer;display: block;width: 100%;margin-bottom: 0;padding: 0.3em;box-sizing: border-box;text-align: center;}#sk-container-id-1 label.sk-toggleable__label-arrow:before {content: \"▸\";float: left;margin-right: 0.25em;color: #696969;}#sk-container-id-1 label.sk-toggleable__label-arrow:hover:before {color: black;}#sk-container-id-1 div.sk-estimator:hover label.sk-toggleable__label-arrow:before {color: black;}#sk-container-id-1 div.sk-toggleable__content {max-height: 0;max-width: 0;overflow: hidden;text-align: left;background-color: #f0f8ff;}#sk-container-id-1 div.sk-toggleable__content pre {margin: 0.2em;color: black;border-radius: 0.25em;background-color: #f0f8ff;}#sk-container-id-1 input.sk-toggleable__control:checked~div.sk-toggleable__content {max-height: 200px;max-width: 100%;overflow: auto;}#sk-container-id-1 input.sk-toggleable__control:checked~label.sk-toggleable__label-arrow:before {content: \"▾\";}#sk-container-id-1 div.sk-estimator input.sk-toggleable__control:checked~label.sk-toggleable__label {background-color: #d4ebff;}#sk-container-id-1 div.sk-label input.sk-toggleable__control:checked~label.sk-toggleable__label {background-color: #d4ebff;}#sk-container-id-1 input.sk-hidden--visually {border: 0;clip: rect(1px 1px 1px 1px);clip: rect(1px, 1px, 1px, 1px);height: 1px;margin: -1px;overflow: hidden;padding: 0;position: absolute;width: 1px;}#sk-container-id-1 div.sk-estimator {font-family: monospace;background-color: #f0f8ff;border: 1px dotted black;border-radius: 0.25em;box-sizing: border-box;margin-bottom: 0.5em;}#sk-container-id-1 div.sk-estimator:hover {background-color: #d4ebff;}#sk-container-id-1 div.sk-parallel-item::after {content: \"\";width: 100%;border-bottom: 1px solid gray;flex-grow: 1;}#sk-container-id-1 div.sk-label:hover label.sk-toggleable__label {background-color: #d4ebff;}#sk-container-id-1 div.sk-serial::before {content: \"\";position: absolute;border-left: 1px solid gray;box-sizing: border-box;top: 0;bottom: 0;left: 50%;z-index: 0;}#sk-container-id-1 div.sk-serial {display: flex;flex-direction: column;align-items: center;background-color: white;padding-right: 0.2em;padding-left: 0.2em;position: relative;}#sk-container-id-1 div.sk-item {position: relative;z-index: 1;}#sk-container-id-1 div.sk-parallel {display: flex;align-items: stretch;justify-content: center;background-color: white;position: relative;}#sk-container-id-1 div.sk-item::before, #sk-container-id-1 div.sk-parallel-item::before {content: \"\";position: absolute;border-left: 1px solid gray;box-sizing: border-box;top: 0;bottom: 0;left: 50%;z-index: -1;}#sk-container-id-1 div.sk-parallel-item {display: flex;flex-direction: column;z-index: 1;position: relative;background-color: white;}#sk-container-id-1 div.sk-parallel-item:first-child::after {align-self: flex-end;width: 50%;}#sk-container-id-1 div.sk-parallel-item:last-child::after {align-self: flex-start;width: 50%;}#sk-container-id-1 div.sk-parallel-item:only-child::after {width: 0;}#sk-container-id-1 div.sk-dashed-wrapped {border: 1px dashed gray;margin: 0 0.4em 0.5em 0.4em;box-sizing: border-box;padding-bottom: 0.4em;background-color: white;}#sk-container-id-1 div.sk-label label {font-family: monospace;font-weight: bold;display: inline-block;line-height: 1.2em;}#sk-container-id-1 div.sk-label-container {text-align: center;}#sk-container-id-1 div.sk-container {/* jupyter's `normalize.less` sets `[hidden] { display: none; }` but bootstrap.min.css set `[hidden] { display: none !important; }` so we also need the `!important` here to be able to override the default hidden behavior on the sphinx rendered scikit-learn.org. See: https://github.com/scikit-learn/scikit-learn/issues/21755 */display: inline-block !important;position: relative;}#sk-container-id-1 div.sk-text-repr-fallback {display: none;}</style><div id=\"sk-container-id-1\" class=\"sk-top-container\"><div class=\"sk-text-repr-fallback\"><pre>GridSearchCV(cv=5,\n             estimator=XGBClassifier(base_score=None, booster=None,\n                                     callbacks=None, colsample_bylevel=None,\n                                     colsample_bynode=None,\n                                     colsample_bytree=None, device=None,\n                                     early_stopping_rounds=None,\n                                     enable_categorical=True, eval_metric=None,\n                                     feature_types=None, gamma=None,\n                                     grow_policy=None, importance_type=None,\n                                     interaction_constraints=None,\n                                     learning_rate=None, m...\n                                     max_cat_to_onehot=None,\n                                     max_delta_step=None, max_depth=None,\n                                     max_leaves=None, min_child_weight=None,\n                                     missing=nan, monotone_constraints=None,\n                                     multi_strategy=None, n_estimators=None,\n                                     n_jobs=None, num_parallel_tree=None,\n                                     random_state=0, ...),\n             param_grid={&#x27;learning_rate&#x27;: [0.1], &#x27;max_depth&#x27;: [3],\n                         &#x27;n_estimators&#x27;: [100]},\n             refit=&#x27;f1&#x27;, scoring={&#x27;f1&#x27;, &#x27;precision&#x27;, &#x27;recall&#x27;, &#x27;accuracy&#x27;})</pre><b>In a Jupyter environment, please rerun this cell to show the HTML representation or trust the notebook. <br />On GitHub, the HTML representation is unable to render, please try loading this page with nbviewer.org.</b></div><div class=\"sk-container\" hidden><div class=\"sk-item sk-dashed-wrapped\"><div class=\"sk-label-container\"><div class=\"sk-label sk-toggleable\"><input class=\"sk-toggleable__control sk-hidden--visually\" id=\"sk-estimator-id-1\" type=\"checkbox\" ><label for=\"sk-estimator-id-1\" class=\"sk-toggleable__label sk-toggleable__label-arrow\">GridSearchCV</label><div class=\"sk-toggleable__content\"><pre>GridSearchCV(cv=5,\n             estimator=XGBClassifier(base_score=None, booster=None,\n                                     callbacks=None, colsample_bylevel=None,\n                                     colsample_bynode=None,\n                                     colsample_bytree=None, device=None,\n                                     early_stopping_rounds=None,\n                                     enable_categorical=True, eval_metric=None,\n                                     feature_types=None, gamma=None,\n                                     grow_policy=None, importance_type=None,\n                                     interaction_constraints=None,\n                                     learning_rate=None, m...\n                                     max_cat_to_onehot=None,\n                                     max_delta_step=None, max_depth=None,\n                                     max_leaves=None, min_child_weight=None,\n                                     missing=nan, monotone_constraints=None,\n                                     multi_strategy=None, n_estimators=None,\n                                     n_jobs=None, num_parallel_tree=None,\n                                     random_state=0, ...),\n             param_grid={&#x27;learning_rate&#x27;: [0.1], &#x27;max_depth&#x27;: [3],\n                         &#x27;n_estimators&#x27;: [100]},\n             refit=&#x27;f1&#x27;, scoring={&#x27;f1&#x27;, &#x27;precision&#x27;, &#x27;recall&#x27;, &#x27;accuracy&#x27;})</pre></div></div></div><div class=\"sk-parallel\"><div class=\"sk-parallel-item\"><div class=\"sk-item\"><div class=\"sk-label-container\"><div class=\"sk-label sk-toggleable\"><input class=\"sk-toggleable__control sk-hidden--visually\" id=\"sk-estimator-id-2\" type=\"checkbox\" ><label for=\"sk-estimator-id-2\" class=\"sk-toggleable__label sk-toggleable__label-arrow\">estimator: XGBClassifier</label><div class=\"sk-toggleable__content\"><pre>XGBClassifier(base_score=None, booster=None, callbacks=None,\n              colsample_bylevel=None, colsample_bynode=None,\n              colsample_bytree=None, device=None, early_stopping_rounds=None,\n              enable_categorical=True, eval_metric=None, feature_types=None,\n              gamma=None, grow_policy=None, importance_type=None,\n              interaction_constraints=None, learning_rate=None, max_bin=None,\n              max_cat_threshold=None, max_cat_to_onehot=None,\n              max_delta_step=None, max_depth=None, max_leaves=None,\n              min_child_weight=None, missing=nan, monotone_constraints=None,\n              multi_strategy=None, n_estimators=None, n_jobs=None,\n              num_parallel_tree=None, random_state=0, ...)</pre></div></div></div><div class=\"sk-serial\"><div class=\"sk-item\"><div class=\"sk-estimator sk-toggleable\"><input class=\"sk-toggleable__control sk-hidden--visually\" id=\"sk-estimator-id-3\" type=\"checkbox\" ><label for=\"sk-estimator-id-3\" class=\"sk-toggleable__label sk-toggleable__label-arrow\">XGBClassifier</label><div class=\"sk-toggleable__content\"><pre>XGBClassifier(base_score=None, booster=None, callbacks=None,\n              colsample_bylevel=None, colsample_bynode=None,\n              colsample_bytree=None, device=None, early_stopping_rounds=None,\n              enable_categorical=True, eval_metric=None, feature_types=None,\n              gamma=None, grow_policy=None, importance_type=None,\n              interaction_constraints=None, learning_rate=None, max_bin=None,\n              max_cat_threshold=None, max_cat_to_onehot=None,\n              max_delta_step=None, max_depth=None, max_leaves=None,\n              min_child_weight=None, missing=nan, monotone_constraints=None,\n              multi_strategy=None, n_estimators=None, n_jobs=None,\n              num_parallel_tree=None, random_state=0, ...)</pre></div></div></div></div></div></div></div></div></div></div>"
          },
          "metadata": {}
        }
      ],
      "execution_count": null
    },
    {
      "cell_type": "code",
      "source": [
        "#apply model to predict on real test data\n",
        "y_pred = xgb_cv.predict(test_df)"
      ],
      "metadata": {
        "trusted": true,
        "execution": {
          "iopub.status.busy": "2025-04-09T00:19:11.172421Z",
          "iopub.execute_input": "2025-04-09T00:19:11.172768Z",
          "iopub.status.idle": "2025-04-09T00:19:11.182010Z",
          "shell.execute_reply.started": "2025-04-09T00:19:11.172741Z",
          "shell.execute_reply": "2025-04-09T00:19:11.181150Z"
        },
        "id": "oGEtyJZFBYCq"
      },
      "outputs": [],
      "execution_count": null
    },
    {
      "cell_type": "code",
      "source": [
        "y_pred.shape"
      ],
      "metadata": {
        "trusted": true,
        "execution": {
          "iopub.status.busy": "2025-04-09T00:19:14.319759Z",
          "iopub.execute_input": "2025-04-09T00:19:14.320256Z",
          "iopub.status.idle": "2025-04-09T00:19:14.327314Z",
          "shell.execute_reply.started": "2025-04-09T00:19:14.320216Z",
          "shell.execute_reply": "2025-04-09T00:19:14.326098Z"
        },
        "id": "7wEViZtZBYCq",
        "outputId": "2c50b783-d86f-498c-bff4-7da5c9d288dc"
      },
      "outputs": [
        {
          "execution_count": 50,
          "output_type": "execute_result",
          "data": {
            "text/plain": "(418,)"
          },
          "metadata": {}
        }
      ],
      "execution_count": null
    },
    {
      "cell_type": "code",
      "source": [
        "# Assuming `test_cleaned` is your test data and you've made predictions\n",
        "# Replace 'model.predict()' with the actual method you're using to get predictions\n",
        "predictions = y_pred\n",
        "\n",
        "# Create a DataFrame with the required columns\n",
        "submission = pd.DataFrame({\n",
        "    'PassengerId': test_df['PassengerId'],  # Use the original test data's PassengerId\n",
        "    'Survived': predictions               # Your model's predictions\n",
        "})\n",
        "\n",
        "# Save the submission DataFrame to a CSV file\n",
        "submission.to_csv('submission_titanic.csv', index=False)\n",
        "\n",
        "print(\"Your submission was successfully saved\")"
      ],
      "metadata": {
        "trusted": true,
        "execution": {
          "iopub.status.busy": "2025-04-09T00:23:13.843557Z",
          "iopub.execute_input": "2025-04-09T00:23:13.843938Z",
          "iopub.status.idle": "2025-04-09T00:23:13.852109Z",
          "shell.execute_reply.started": "2025-04-09T00:23:13.843912Z",
          "shell.execute_reply": "2025-04-09T00:23:13.851141Z"
        },
        "id": "_zTp_TnNBYCq",
        "outputId": "60c0e6ba-c8ee-47fa-90ef-3575d50d778f"
      },
      "outputs": [
        {
          "name": "stdout",
          "text": "Your submission was successfully saved\n",
          "output_type": "stream"
        }
      ],
      "execution_count": null
    }
  ]
}